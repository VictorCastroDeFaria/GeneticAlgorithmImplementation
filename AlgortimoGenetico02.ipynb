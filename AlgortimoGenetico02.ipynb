{
 "cells": [
  {
   "cell_type": "code",
   "execution_count": 16,
   "metadata": {},
   "outputs": [],
   "source": [
    "import numpy as np\n",
    "import pandas as pd\n",
    "import matplotlib.pyplot as plt\n",
    "from random import *\n",
    "import time"
   ]
  },
  {
   "cell_type": "markdown",
   "metadata": {},
   "source": [
    "## Uso do conjunto reduzido de dados (5130 pacientes)"
   ]
  },
  {
   "cell_type": "code",
   "execution_count": 17,
   "metadata": {},
   "outputs": [],
   "source": [
    "dados = pd.read_csv('dadosPO201reduced.csv')"
   ]
  },
  {
   "cell_type": "code",
   "execution_count": 18,
   "metadata": {},
   "outputs": [
    {
     "data": {
      "text/html": [
       "<div>\n",
       "<style scoped>\n",
       "    .dataframe tbody tr th:only-of-type {\n",
       "        vertical-align: middle;\n",
       "    }\n",
       "\n",
       "    .dataframe tbody tr th {\n",
       "        vertical-align: top;\n",
       "    }\n",
       "\n",
       "    .dataframe thead th {\n",
       "        text-align: right;\n",
       "    }\n",
       "</style>\n",
       "<table border=\"1\" class=\"dataframe\">\n",
       "  <thead>\n",
       "    <tr style=\"text-align: right;\">\n",
       "      <th></th>\n",
       "      <th>febre</th>\n",
       "      <th>tosse</th>\n",
       "      <th>dor.de.garganta</th>\n",
       "      <th>dispneia</th>\n",
       "      <th>desconforto.respiratorio</th>\n",
       "      <th>saturacao</th>\n",
       "      <th>diarreia</th>\n",
       "      <th>vomito</th>\n",
       "      <th>outros.sintomas</th>\n",
       "      <th>doenca.cardiovascular.cronica</th>\n",
       "      <th>imunodeficiencia.imunodepressao</th>\n",
       "      <th>diabetes.mellitus</th>\n",
       "      <th>obesidade</th>\n",
       "      <th>outros.riscos</th>\n",
       "      <th>doencas.respiratorias.cronicas</th>\n",
       "      <th>sexo</th>\n",
       "      <th>idade</th>\n",
       "      <th>gravidade2</th>\n",
       "    </tr>\n",
       "  </thead>\n",
       "  <tbody>\n",
       "    <tr>\n",
       "      <th>0</th>\n",
       "      <td>1</td>\n",
       "      <td>1</td>\n",
       "      <td>0</td>\n",
       "      <td>0</td>\n",
       "      <td>1</td>\n",
       "      <td>0</td>\n",
       "      <td>0</td>\n",
       "      <td>0</td>\n",
       "      <td>0</td>\n",
       "      <td>0</td>\n",
       "      <td>0</td>\n",
       "      <td>1</td>\n",
       "      <td>0</td>\n",
       "      <td>0</td>\n",
       "      <td>0</td>\n",
       "      <td>1</td>\n",
       "      <td>57</td>\n",
       "      <td>0</td>\n",
       "    </tr>\n",
       "    <tr>\n",
       "      <th>1</th>\n",
       "      <td>1</td>\n",
       "      <td>1</td>\n",
       "      <td>1</td>\n",
       "      <td>1</td>\n",
       "      <td>0</td>\n",
       "      <td>0</td>\n",
       "      <td>0</td>\n",
       "      <td>0</td>\n",
       "      <td>1</td>\n",
       "      <td>0</td>\n",
       "      <td>0</td>\n",
       "      <td>0</td>\n",
       "      <td>0</td>\n",
       "      <td>0</td>\n",
       "      <td>0</td>\n",
       "      <td>1</td>\n",
       "      <td>39</td>\n",
       "      <td>0</td>\n",
       "    </tr>\n",
       "    <tr>\n",
       "      <th>2</th>\n",
       "      <td>1</td>\n",
       "      <td>0</td>\n",
       "      <td>0</td>\n",
       "      <td>1</td>\n",
       "      <td>0</td>\n",
       "      <td>0</td>\n",
       "      <td>0</td>\n",
       "      <td>0</td>\n",
       "      <td>1</td>\n",
       "      <td>0</td>\n",
       "      <td>0</td>\n",
       "      <td>0</td>\n",
       "      <td>0</td>\n",
       "      <td>0</td>\n",
       "      <td>0</td>\n",
       "      <td>1</td>\n",
       "      <td>16</td>\n",
       "      <td>0</td>\n",
       "    </tr>\n",
       "    <tr>\n",
       "      <th>3</th>\n",
       "      <td>1</td>\n",
       "      <td>0</td>\n",
       "      <td>1</td>\n",
       "      <td>1</td>\n",
       "      <td>0</td>\n",
       "      <td>0</td>\n",
       "      <td>0</td>\n",
       "      <td>0</td>\n",
       "      <td>0</td>\n",
       "      <td>0</td>\n",
       "      <td>0</td>\n",
       "      <td>0</td>\n",
       "      <td>0</td>\n",
       "      <td>0</td>\n",
       "      <td>0</td>\n",
       "      <td>1</td>\n",
       "      <td>42</td>\n",
       "      <td>0</td>\n",
       "    </tr>\n",
       "    <tr>\n",
       "      <th>4</th>\n",
       "      <td>1</td>\n",
       "      <td>0</td>\n",
       "      <td>1</td>\n",
       "      <td>0</td>\n",
       "      <td>0</td>\n",
       "      <td>0</td>\n",
       "      <td>0</td>\n",
       "      <td>0</td>\n",
       "      <td>1</td>\n",
       "      <td>0</td>\n",
       "      <td>0</td>\n",
       "      <td>0</td>\n",
       "      <td>0</td>\n",
       "      <td>0</td>\n",
       "      <td>0</td>\n",
       "      <td>1</td>\n",
       "      <td>50</td>\n",
       "      <td>0</td>\n",
       "    </tr>\n",
       "  </tbody>\n",
       "</table>\n",
       "</div>"
      ],
      "text/plain": [
       "   febre  tosse  dor.de.garganta  dispneia  desconforto.respiratorio  \\\n",
       "0      1      1                0         0                         1   \n",
       "1      1      1                1         1                         0   \n",
       "2      1      0                0         1                         0   \n",
       "3      1      0                1         1                         0   \n",
       "4      1      0                1         0                         0   \n",
       "\n",
       "   saturacao  diarreia  vomito  outros.sintomas  \\\n",
       "0          0         0       0                0   \n",
       "1          0         0       0                1   \n",
       "2          0         0       0                1   \n",
       "3          0         0       0                0   \n",
       "4          0         0       0                1   \n",
       "\n",
       "   doenca.cardiovascular.cronica  imunodeficiencia.imunodepressao  \\\n",
       "0                              0                                0   \n",
       "1                              0                                0   \n",
       "2                              0                                0   \n",
       "3                              0                                0   \n",
       "4                              0                                0   \n",
       "\n",
       "   diabetes.mellitus  obesidade  outros.riscos  \\\n",
       "0                  1          0              0   \n",
       "1                  0          0              0   \n",
       "2                  0          0              0   \n",
       "3                  0          0              0   \n",
       "4                  0          0              0   \n",
       "\n",
       "   doencas.respiratorias.cronicas  sexo  idade  gravidade2  \n",
       "0                               0     1     57           0  \n",
       "1                               0     1     39           0  \n",
       "2                               0     1     16           0  \n",
       "3                               0     1     42           0  \n",
       "4                               0     1     50           0  "
      ]
     },
     "execution_count": 18,
     "metadata": {},
     "output_type": "execute_result"
    }
   ],
   "source": [
    "dados.drop(columns = 'Unnamed: 0', inplace = True)\n",
    "dados.head()\n"
   ]
  },
  {
   "cell_type": "code",
   "execution_count": 19,
   "metadata": {},
   "outputs": [
    {
     "data": {
      "text/plain": [
       "(5130, 18)"
      ]
     },
     "execution_count": 19,
     "metadata": {},
     "output_type": "execute_result"
    }
   ],
   "source": [
    "dados.shape"
   ]
  },
  {
   "cell_type": "code",
   "execution_count": 20,
   "metadata": {},
   "outputs": [
    {
     "data": {
      "text/plain": [
       "0    3420\n",
       "1    1710\n",
       "dtype: int64"
      ]
     },
     "execution_count": 20,
     "metadata": {},
     "output_type": "execute_result"
    }
   ],
   "source": [
    "pd.value_counts(dados['gravidade2'].values)"
   ]
  },
  {
   "cell_type": "code",
   "execution_count": 21,
   "metadata": {},
   "outputs": [],
   "source": [
    "df_positive = dados[dados['gravidade2'] == 1]\n",
    "df_negative = dados[dados['gravidade2'] == 0]"
   ]
  },
  {
   "cell_type": "markdown",
   "metadata": {},
   "source": [
    "## Função de determinação de parcelas de separabilidade de atributos"
   ]
  },
  {
   "cell_type": "code",
   "execution_count": 22,
   "metadata": {},
   "outputs": [],
   "source": [
    "attributes = list(dados.columns)\n",
    "attributes.remove('gravidade2')\n",
    "\n",
    "\n",
    "def processingSeparability(df_negative, df_positive,attributes):\n",
    "    separability = []\n",
    "    target_0 = df_negative['gravidade2']\n",
    "    target_1 = df_positive['gravidade2']\n",
    "    for attr in attributes:\n",
    "        total = 0\n",
    "        attr_values_neg = list(df_negative[attr])\n",
    "        attr_values_pos = list(df_positive[attr])\n",
    "        #print(attr)\n",
    "        for item_1 in range(df_negative.shape[0]):\n",
    "            for item_2 in range(df_positive.shape[0]):\n",
    "                if attr_values_neg[item_1] != attr_values_pos[item_2]:\n",
    "                    total += 1\n",
    "        separability.append(total)\n",
    "    return separability"
   ]
  },
  {
   "cell_type": "markdown",
   "metadata": {},
   "source": [
    "## Definição de funções de aptidão, competição, crossover e mutação"
   ]
  },
  {
   "cell_type": "code",
   "execution_count": 23,
   "metadata": {},
   "outputs": [],
   "source": [
    "def fitnessFunction(individual, separability, beta):\n",
    "    if sum(individual) > beta:\n",
    "        return 0\n",
    "    else:\n",
    "        return np.matmul(individual,separability)\n"
   ]
  },
  {
   "cell_type": "code",
   "execution_count": 24,
   "metadata": {},
   "outputs": [],
   "source": [
    "def mutate(individual, probability):\n",
    "    for item in range(len(individual)):\n",
    "        if random() < probability:\n",
    "            individual[item] = 1 - individual[item]\n",
    "    return individual"
   ]
  },
  {
   "cell_type": "code",
   "execution_count": 25,
   "metadata": {},
   "outputs": [],
   "source": [
    "def crossover(parent1, parent2, probability):\n",
    "    child1, child2 = parent1.copy(), parent2.copy()\n",
    "    if random() < probability:\n",
    "        crossover_point = randint(1,len(parent1)-2)\n",
    "        child1 = parent1[:crossover_point] + parent2[crossover_point:]\n",
    "        child2 = parent2[:crossover_point] + parent1[crossover_point:]\n",
    "    return [child1, child2]"
   ]
  },
  {
   "cell_type": "code",
   "execution_count": 26,
   "metadata": {},
   "outputs": [],
   "source": [
    "def selection(population, scores, k = 3):\n",
    "    random_individual = randint(0,len(population)-1)\n",
    "    for opponent in sample(range(len(population)),k-1):\n",
    "        #print(opponent, '', random_individual)\n",
    "        if scores[opponent] > scores[random_individual]:\n",
    "            random_individual = opponent\n",
    "    return population[random_individual]"
   ]
  },
  {
   "cell_type": "markdown",
   "metadata": {},
   "source": [
    "## Execução do algoritmo genético"
   ]
  },
  {
   "cell_type": "code",
   "execution_count": 27,
   "metadata": {},
   "outputs": [],
   "source": [
    "def geneticAlgorithm(df_negative, \n",
    "                     df_positive, \n",
    "                     attributes, \n",
    "                     chromossome_size,\n",
    "                     pop_size,\n",
    "                     num_iter,\n",
    "                     prob_crossover,\n",
    "                     prob_mutation): \n",
    "        separability = processingSeparability(df_negative,df_positive,attributes)\n",
    "        print('Separability: ',separability)\n",
    "        population = [[randint(0, 1) for item in range(chromossome_size)] for item in range(pop_size)]\n",
    "        best, best_eval = 0, fitnessFunction(population[0], separability, beta)\n",
    "\n",
    "        for generation in range(num_iter):\n",
    "            scores = [fitnessFunction(individual, separability, beta) for individual in population]\n",
    "            \n",
    "            sums = [sum(individual) for individual in population]\n",
    "            for (score, sum_) in zip(scores, sums):\n",
    "                if sum_ > beta and score > 0:\n",
    "                    print('Warning! Fitness function needs maintenance!')\n",
    "\n",
    "\n",
    "            for individual in range(pop_size):\n",
    "                if scores[individual] > best_eval:\n",
    "                    best = population[individual]\n",
    "                    best_eval = scores[individual]\n",
    "                    print(\"Generation %d, new best f(%s) = %.3f\" % (generation,  \n",
    "                    best, \n",
    "                    best_eval))\n",
    "            selected = [selection(population,scores) for tournament in range(pop_size)]\n",
    "            offspring = []\n",
    "            for i in range(0, pop_size, 2):\n",
    "                parent1, parent2 = selected[i], selected[i+1]\n",
    "                for child in crossover(parent1, parent2, prob_crossover):\n",
    "                    child = mutate(child, prob_mutation)\n",
    "                    offspring.append(child)\n",
    "            population = offspring"
   ]
  },
  {
   "cell_type": "code",
   "execution_count": null,
   "metadata": {},
   "outputs": [
    {
     "name": "stdout",
     "output_type": "stream",
     "text": [
      "_________________________________________________\n",
      "RUNNING FOR BETA =  4\n",
      "_________________________________________________\n",
      "Separability:  [2837274, 2080704, 3355020, 3617650, 3319892, 4047306, 530100, 324900, 2754050, 2792436, 227626, 2280904, 434340, 2561580, 308984, 2964966, 5790913]\n",
      "Generation 0, new best f([1, 0, 0, 0, 1, 0, 0, 0, 0, 0, 0, 0, 0, 0, 0, 1, 1]) = 14913045.000 with sum 4\n",
      "Generation 44, new best f([1, 0, 0, 0, 0, 1, 0, 0, 0, 0, 0, 0, 0, 0, 0, 1, 1]) = 15640459.000 with sum 4\n",
      "Generation 280, new best f([0, 0, 1, 1, 0, 0, 0, 0, 0, 0, 0, 0, 0, 0, 0, 1, 1]) = 15728549.000 with sum 4\n",
      "Generation 293, new best f([0, 0, 0, 1, 0, 1, 0, 0, 0, 0, 0, 0, 0, 0, 0, 1, 1]) = 16420835.000 with sum 4\n",
      "Generation 362, new best f([0, 0, 1, 1, 0, 1, 0, 0, 0, 0, 0, 0, 0, 0, 0, 0, 1]) = 16810889.000 with sum 4\n",
      "time elapsed 23.048 seconds\n",
      "time elapsed 23.048 seconds\n",
      "_________________________________________________\n",
      "RUNNING FOR BETA =  5\n",
      "_________________________________________________\n",
      "Separability:  [2837274, 2080704, 3355020, 3617650, 3319892, 4047306, 530100, 324900, 2754050, 2792436, 227626, 2280904, 434340, 2561580, 308984, 2964966, 5790913]\n",
      "Generation 0, new best f([0, 0, 0, 1, 0, 0, 0, 0, 1, 1, 0, 0, 0, 0, 1, 0, 0]) = 9473120.000 with sum 4\n",
      "Generation 1, new best f([1, 0, 0, 1, 1, 0, 0, 0, 1, 0, 0, 0, 0, 0, 1, 0, 0]) = 12837850.000 with sum 5\n",
      "Generation 2, new best f([0, 0, 0, 1, 0, 1, 0, 0, 1, 1, 0, 0, 0, 0, 1, 0, 0]) = 13520426.000 with sum 5\n",
      "Generation 5, new best f([1, 0, 0, 1, 0, 1, 0, 0, 1, 1, 0, 0, 0, 0, 0, 0, 0]) = 16048716.000 with sum 5\n",
      "Generation 7, new best f([0, 0, 0, 1, 0, 1, 0, 0, 1, 1, 0, 0, 0, 0, 0, 1, 0]) = 16176408.000 with sum 5\n",
      "Generation 248, new best f([0, 0, 1, 1, 0, 1, 0, 0, 0, 1, 0, 0, 0, 0, 0, 1, 0]) = 16777378.000 with sum 5\n",
      "Generation 340, new best f([0, 0, 1, 1, 1, 1, 0, 0, 0, 0, 0, 0, 0, 0, 0, 1, 0]) = 17304834.000 with sum 5\n",
      "Generation 350, new best f([0, 0, 1, 1, 1, 1, 0, 0, 0, 0, 0, 0, 0, 0, 0, 0, 1]) = 20130781.000 with sum 5\n",
      "time elapsed 23.777 seconds\n",
      "time elapsed 23.777 seconds\n",
      "_________________________________________________\n",
      "RUNNING FOR BETA =  6\n",
      "_________________________________________________\n"
     ]
    }
   ],
   "source": [
    "prob_crossover = 0.45\n",
    "prob_mutation = 0.01\n",
    "\n",
    "num_iter = 3000\n",
    "pop_size = 20\n",
    "chromossome_size = 17\n",
    "beta_list = range(4,9)\n",
    "\n",
    "\n",
    "for beta in beta_list:\n",
    "    time1 = time.time()\n",
    "    \n",
    "    print(\"_________________________________________________\")\n",
    "    print(\"RUNNING FOR BETA = \", beta)\n",
    "    print(\"_________________________________________________\")\n",
    "    geneticAlgorithm(df_negative, \n",
    "                     df_positive, \n",
    "                     attributes, \n",
    "                     chromossome_size,\n",
    "                     pop_size,\n",
    "                     num_iter,\n",
    "                     prob_crossover,\n",
    "                     prob_mutation)\n",
    "    \n",
    "    time2 = time.time()\n",
    "    total_time = time2-time1\n",
    "    print(\"time elapsed %.3f seconds\" % total_time)\n"
   ]
  }
 ],
 "metadata": {
  "interpreter": {
   "hash": "8c77a13587ffc0b91470270c369249efa7c2ba70ba7726b1ad5fc01fa30e2cc8"
  },
  "kernelspec": {
   "display_name": "Python 3",
   "language": "python",
   "name": "python3"
  },
  "language_info": {
   "codemirror_mode": {
    "name": "ipython",
    "version": 3
   },
   "file_extension": ".py",
   "mimetype": "text/x-python",
   "name": "python",
   "nbconvert_exporter": "python",
   "pygments_lexer": "ipython3",
   "version": "3.8.3"
  }
 },
 "nbformat": 4,
 "nbformat_minor": 2
}
